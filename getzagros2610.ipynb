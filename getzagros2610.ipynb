{
 "cells": [
  {
   "cell_type": "code",
   "execution_count": 2,
   "metadata": {},
   "outputs": [],
   "source": [
    "from bs4 import BeautifulSoup\n",
    "import requests as req\n",
    "import re\n",
    "import json\n",
    "import numpy as np\n",
    "import pandas as pd\n",
    "import jalali"
   ]
  },
  {
   "cell_type": "code",
   "execution_count": 4,
   "metadata": {},
   "outputs": [],
   "source": [
    "resp = req.get(\"http://cdn.tsetmc.com/Loader.aspx?ParTree=15131P&i=13235547361447092&d=20190116\")\n",
    "soup = BeautifulSoup(resp.text, 'lxml')"
   ]
  },
  {
   "cell_type": "code",
   "execution_count": 5,
   "metadata": {},
   "outputs": [],
   "source": [
    "data = soup.find_all(\"script\")[3].string\n",
    "regex = r\".*var ClosingPriceData=(.*?);\"\n",
    "matches = re.finditer(regex, data, re.MULTILINE)"
   ]
  },
  {
   "cell_type": "code",
   "execution_count": 6,
   "metadata": {},
   "outputs": [],
   "source": [
    "for matchNum, match in enumerate(matches, start=1):    \n",
    "    \n",
    "    for groupNum in range(0, len(match.groups())):\n",
    "        groupNum = groupNum + 1\n",
    "        \n",
    "        group = match.group(groupNum)\n",
    "        \n",
    "        group = group.replace(\"\\'\",\"\\\"\")\n",
    "        ClosingPriceData = json.loads(group)\n",
    "        \n",
    "        lst_datetime= []\n",
    "        lst_last_trans = []\n",
    "        lst_final_price = []\n",
    "        lst_volume = []\n",
    "        lst_time= []\n",
    "        \n",
    "        for item in ClosingPriceData:\n",
    "            lst_datetime.append(item[0])\n",
    "            lst_last_trans.append(item[2])\n",
    "            lst_final_price.append(item[3])\n",
    "            lst_volume.append(item[9])\n",
    "            lst_time.append(item[12])\n",
    "        \n",
    "        np_datetime = np.array(lst_datetime,dtype=np.str)\n",
    "        np_last_trans = np.array(lst_last_trans,dtype=np.str)\n",
    "        np_final_price = np.array(lst_final_price,dtype=np.str)\n",
    "        np_volume = np.array(lst_volume,dtype=np.str)\n",
    "        np_time = np.array(lst_time,dtype=np.str)\n",
    "        \n",
    "        np_data = np.array([np_datetime,np_last_trans,np_final_price,np_volume,np_time])\n",
    "        pd_data = pd.DataFrame(np.transpose(np_data),\\\n",
    "                columns=[\"datetime\",\"last transaction\",\"final price\",\"volume\",\"time\"])\n"
   ]
  },
  {
   "cell_type": "code",
   "execution_count": 7,
   "metadata": {},
   "outputs": [],
   "source": [
    "nextdata = soup.find_all(\"script\")[4].string\n",
    "regex = r\".*var BestLimitData=(.*?);\"\n",
    "\n",
    "matches = re.finditer(regex, nextdata, re.MULTILINE)\n",
    "for matchNum, match in enumerate(matches, start=1):    \n",
    "    for groupNum in range(0, len(match.groups())):\n",
    "        groupNum = groupNum + 1\n",
    "        group = match.group(groupNum)\n",
    "        group = group.replace(\"\\'\",\"\\\"\")\n",
    "        BestLimitData = json.loads(group)\n",
    "        \n",
    "#         for bestlimitdata in BestLimitData:\n",
    "#             for closingpricedata in ClosingPriceData:\n",
    "#                 if bestlimitdata[0] == int(closingpricedata[12]):\n",
    "#                     for item in closingpricedata:\n",
    "#                         bestlimitdata.append(item)\n",
    "#                     alldata.append(bestlimitdata)\n",
    "#                     break\n",
    "                \n",
    "#         df = pd.DataFrame(alldata)"
   ]
  },
  {
   "cell_type": "code",
   "execution_count": 113,
   "metadata": {},
   "outputs": [],
   "source": [
    "limit_order = pd.DataFrame(BestLimitData,columns=[\"time\",\"id\",\"number_buy\",\"volume_buy\",\"price_buy\",\n",
    "                            \"price_sell\",\"volume_sell\",\"number_sell\"])\n",
    "column1=[\"time1\",\"id1\",\"number_buy1\",\"volume_buy1\",\"price_buy1\",\"price_sell1\",\"volume_sell1\",\"number_sell1\"]\n",
    "column2=[\"time2\",\"id2\",\"number_buy2\",\"volume_buy2\",\"price_buy2\",\"price_sell2\",\"volume_sell2\",\"number_sell2\"]\n",
    "column3=[\"time3\",\"id3\",\"number_buy3\",\"volume_buy3\",\"price_buy3\",\"price_sell3\",\"volume_sell3\",\"number_sell3\"]\n",
    "column4=[\"time4\",\"id4\",\"number_buy4\",\"volume_buy4\",\"price_buy4\",\"price_sell4\",\"volume_sell4\",\"number_sell4\"]\n",
    "column5=[\"time5\",\"id5\",\"number_buy5\",\"volume_buy5\",\"price_buy5\",\"price_sell5\",\"volume_sell5\",\"number_sell5\"]\n",
    "\n",
    "header_data = column1+column2+column3+column4+column5\n",
    "all_data = pd.DataFrame(columns=header_data)\n",
    "\n",
    "data = []\n",
    "lst=[]\n",
    "for j,item in limit_order.groupby(\"time\"):\n",
    "    for row_index,row in item.iterrows():\n",
    "        if row_index < 5  :\n",
    "            lst.extend(row.tolist())\n",
    "#             print(lst)\n",
    "        else:\n",
    "            lst[(int((row.tolist()[1]))-1)*8:int(row.tolist()[1])*8] = row\n",
    "#             print(lst)\n",
    "#             print(lst)\n",
    "#     print(\"edn\")\n",
    "    new_lst = lst.copy()\n",
    "    data.append(new_lst)\n",
    "#     print(\"all\",data)\n",
    "#     print(\"allend\")\n",
    "\n",
    "\n",
    "\n",
    "#         elif all_data.empty and row_index == 4 :\n",
    "#             all_data = pd.DataFrame(lst,header_data)\n",
    "            \n",
    "#         else:\n",
    "#             pass\n",
    "#             all_data = all_data.append()"
   ]
  },
  {
   "cell_type": "code",
   "execution_count": null,
   "metadata": {},
   "outputs": [],
   "source": []
  },
  {
   "cell_type": "code",
   "execution_count": 144,
   "metadata": {},
   "outputs": [
    {
     "ename": "AttributeError",
     "evalue": "'Series' object has no attribute 'value'",
     "output_type": "error",
     "traceback": [
      "\u001b[1;31m---------------------------------------------------------------------------\u001b[0m",
      "\u001b[1;31mAttributeError\u001b[0m                            Traceback (most recent call last)",
      "\u001b[1;32m<ipython-input-144-09edbbfb4f5e>\u001b[0m in \u001b[0;36m<module>\u001b[1;34m()\u001b[0m\n\u001b[0;32m      1\u001b[0m \u001b[1;31m# data\u001b[0m\u001b[1;33m\u001b[0m\u001b[1;33m\u001b[0m\u001b[0m\n\u001b[0;32m      2\u001b[0m \u001b[0mlimit_order_book\u001b[0m \u001b[1;33m=\u001b[0m \u001b[0mpd\u001b[0m\u001b[1;33m.\u001b[0m\u001b[0mDataFrame\u001b[0m\u001b[1;33m(\u001b[0m\u001b[0mdata\u001b[0m\u001b[1;33m,\u001b[0m\u001b[0mcolumns\u001b[0m\u001b[1;33m=\u001b[0m\u001b[0mheader_data\u001b[0m\u001b[1;33m)\u001b[0m\u001b[1;33m\u001b[0m\u001b[0m\n\u001b[1;32m----> 3\u001b[1;33m \u001b[0mtime1\u001b[0m \u001b[1;33m=\u001b[0m \u001b[0mlimit_order_book\u001b[0m\u001b[1;33m[\u001b[0m\u001b[1;34m\"time1\"\u001b[0m\u001b[1;33m]\u001b[0m\u001b[1;33m.\u001b[0m\u001b[0mapply\u001b[0m\u001b[1;33m(\u001b[0m\u001b[1;32mlambda\u001b[0m \u001b[0mx\u001b[0m\u001b[1;33m:\u001b[0m \u001b[0mpd_data\u001b[0m\u001b[1;33m[\u001b[0m\u001b[1;34m\"datetime\"\u001b[0m\u001b[1;33m]\u001b[0m\u001b[1;33m[\u001b[0m\u001b[1;36m0\u001b[0m\u001b[1;33m]\u001b[0m\u001b[1;33m.\u001b[0m\u001b[0msplit\u001b[0m\u001b[1;33m(\u001b[0m\u001b[1;34m\" \"\u001b[0m\u001b[1;33m)\u001b[0m\u001b[1;33m[\u001b[0m\u001b[1;36m0\u001b[0m\u001b[1;33m]\u001b[0m \u001b[1;33m+\u001b[0m\u001b[1;34m\" \"\u001b[0m\u001b[1;33m+\u001b[0m\u001b[0mstr\u001b[0m\u001b[1;33m(\u001b[0m\u001b[0mx\u001b[0m\u001b[1;33m)\u001b[0m\u001b[1;33m[\u001b[0m\u001b[1;33m:\u001b[0m\u001b[1;33m-\u001b[0m\u001b[1;36m4\u001b[0m\u001b[1;33m]\u001b[0m\u001b[1;33m+\u001b[0m\u001b[1;34m\":\"\u001b[0m\u001b[1;33m+\u001b[0m\u001b[0mstr\u001b[0m\u001b[1;33m(\u001b[0m\u001b[0mx\u001b[0m\u001b[1;33m)\u001b[0m\u001b[1;33m[\u001b[0m\u001b[1;33m-\u001b[0m\u001b[1;36m4\u001b[0m\u001b[1;33m:\u001b[0m\u001b[1;33m-\u001b[0m\u001b[1;36m2\u001b[0m\u001b[1;33m]\u001b[0m\u001b[1;33m+\u001b[0m\u001b[1;34m\":\"\u001b[0m\u001b[1;33m+\u001b[0m\u001b[0mstr\u001b[0m\u001b[1;33m(\u001b[0m\u001b[0mx\u001b[0m\u001b[1;33m)\u001b[0m\u001b[1;33m[\u001b[0m\u001b[1;33m-\u001b[0m\u001b[1;36m2\u001b[0m\u001b[1;33m:\u001b[0m\u001b[1;33m]\u001b[0m\u001b[1;33m)\u001b[0m\u001b[1;33m.\u001b[0m\u001b[0mvalue\u001b[0m\u001b[1;33m\u001b[0m\u001b[0m\n\u001b[0m\u001b[0;32m      4\u001b[0m \u001b[0mvolume_buy1\u001b[0m \u001b[1;33m=\u001b[0m \u001b[0mlimit_order_book\u001b[0m\u001b[1;33m[\u001b[0m\u001b[1;34m\"volume_buy1\"\u001b[0m\u001b[1;33m]\u001b[0m\u001b[1;33m.\u001b[0m\u001b[0mvalues\u001b[0m\u001b[1;33m\u001b[0m\u001b[0m\n\u001b[0;32m      5\u001b[0m \u001b[0mprice_buy1\u001b[0m \u001b[1;33m=\u001b[0m \u001b[0mlimit_order_book\u001b[0m\u001b[1;33m[\u001b[0m\u001b[1;34m\"price_buy1\"\u001b[0m\u001b[1;33m]\u001b[0m\u001b[1;33m.\u001b[0m\u001b[0mvalues\u001b[0m\u001b[1;33m\u001b[0m\u001b[0m\n",
      "\u001b[1;32m~\\Anaconda3\\lib\\site-packages\\pandas\\core\\generic.py\u001b[0m in \u001b[0;36m__getattr__\u001b[1;34m(self, name)\u001b[0m\n\u001b[0;32m   4370\u001b[0m             \u001b[1;32mif\u001b[0m \u001b[0mself\u001b[0m\u001b[1;33m.\u001b[0m\u001b[0m_info_axis\u001b[0m\u001b[1;33m.\u001b[0m\u001b[0m_can_hold_identifiers_and_holds_name\u001b[0m\u001b[1;33m(\u001b[0m\u001b[0mname\u001b[0m\u001b[1;33m)\u001b[0m\u001b[1;33m:\u001b[0m\u001b[1;33m\u001b[0m\u001b[0m\n\u001b[0;32m   4371\u001b[0m                 \u001b[1;32mreturn\u001b[0m \u001b[0mself\u001b[0m\u001b[1;33m[\u001b[0m\u001b[0mname\u001b[0m\u001b[1;33m]\u001b[0m\u001b[1;33m\u001b[0m\u001b[0m\n\u001b[1;32m-> 4372\u001b[1;33m             \u001b[1;32mreturn\u001b[0m \u001b[0mobject\u001b[0m\u001b[1;33m.\u001b[0m\u001b[0m__getattribute__\u001b[0m\u001b[1;33m(\u001b[0m\u001b[0mself\u001b[0m\u001b[1;33m,\u001b[0m \u001b[0mname\u001b[0m\u001b[1;33m)\u001b[0m\u001b[1;33m\u001b[0m\u001b[0m\n\u001b[0m\u001b[0;32m   4373\u001b[0m \u001b[1;33m\u001b[0m\u001b[0m\n\u001b[0;32m   4374\u001b[0m     \u001b[1;32mdef\u001b[0m \u001b[0m__setattr__\u001b[0m\u001b[1;33m(\u001b[0m\u001b[0mself\u001b[0m\u001b[1;33m,\u001b[0m \u001b[0mname\u001b[0m\u001b[1;33m,\u001b[0m \u001b[0mvalue\u001b[0m\u001b[1;33m)\u001b[0m\u001b[1;33m:\u001b[0m\u001b[1;33m\u001b[0m\u001b[0m\n",
      "\u001b[1;31mAttributeError\u001b[0m: 'Series' object has no attribute 'value'"
     ]
    }
   ],
   "source": [
    "# data\n",
    "limit_order_book = pd.DataFrame(data,columns=header_data)\n",
    "time1 = limit_order_book[\"time1\"].apply(lambda x: pd_data[\"datetime\"][0].split(\" \")[0] +\\\n",
    "                                        \" \"+str(x)[:-4]+\":\"+str(x)[-4:-2]+\":\"+str(x)[-2:]).values\n",
    "volume_buy1 = limit_order_book[\"volume_buy1\"].values\n",
    "price_buy1 = limit_order_book[\"price_buy1\"].values\n",
    "price_sell1 = limit_order_book[\"price_sell1\"].values\n",
    "volume_sell1 = limit_order_book[\"volume_sell1\"].values\n",
    "\n",
    "time2 = limit_order_book[\"time2\"].appley(lambda x:str(x)[:-4]+\":\"+str(x)[-4:-2]+\":\"+str(x)[-2:]).values\n",
    "volume_buy2 = limit_order_book[\"volume_buy2\"].values\n",
    "price_buy2 = limit_order_book[\"price_buy2\"].values\n",
    "price_sell2 = limit_order_book[\"price_sell2\"].values\n",
    "# limit_order_book[\"volume_sell2\"]\n",
    "type(time1)\n",
    "\n",
    "\n"
   ]
  },
  {
   "cell_type": "code",
   "execution_count": 142,
   "metadata": {},
   "outputs": [
    {
     "data": {
      "text/plain": [
       "'2019-1-16'"
      ]
     },
     "execution_count": 142,
     "metadata": {},
     "output_type": "execute_result"
    }
   ],
   "source": [
    "pd_data[\"datetime\"][0].split(\" \")[0]"
   ]
  },
  {
   "cell_type": "code",
   "execution_count": 141,
   "metadata": {},
   "outputs": [],
   "source": [
    "pd_data[\"datetime\"] = pd_data[\"datetime\"].astype(str)\n",
    "pd_data[\"datetime\"] = pd_data[\"datetime\"].\\\n",
    "apply(lambda x: jalali.Persian(x.split(\" \")[0]).gregorian_string() +\" \"+ x.split(\" \")[1])"
   ]
  },
  {
   "cell_type": "code",
   "execution_count": 62,
   "metadata": {},
   "outputs": [
    {
     "data": {
      "text/plain": [
       "'2019-1-16 06:10:32'"
      ]
     },
     "execution_count": 62,
     "metadata": {},
     "output_type": "execute_result"
    }
   ],
   "source": [
    "s =pd_data[\"datetime\"][0]\n"
   ]
  },
  {
   "cell_type": "code",
   "execution_count": 38,
   "metadata": {},
   "outputs": [
    {
     "data": {
      "text/plain": [
       "'2014-3-31'"
      ]
     },
     "execution_count": 38,
     "metadata": {},
     "output_type": "execute_result"
    }
   ],
   "source": [
    "jalali.Persian(x.split(\" \")[0]).gregorian_string()"
   ]
  },
  {
   "cell_type": "code",
   "execution_count": 39,
   "metadata": {},
   "outputs": [
    {
     "data": {
      "text/plain": [
       "['a', 'b']"
      ]
     },
     "execution_count": 39,
     "metadata": {},
     "output_type": "execute_result"
    }
   ],
   "source": [
    "'a b'.split(\" \")"
   ]
  },
  {
   "cell_type": "code",
   "execution_count": 28,
   "metadata": {},
   "outputs": [],
   "source": [
    "lst=[]\n",
    "a = [1,2,4]\n",
    "b = [1,2,4]\n",
    "lst.extend(a)\n",
    "lst.extend(b)"
   ]
  },
  {
   "cell_type": "code",
   "execution_count": 53,
   "metadata": {},
   "outputs": [],
   "source": [
    "lst = [2,4,5,6,7,7]"
   ]
  },
  {
   "cell_type": "code",
   "execution_count": 138,
   "metadata": {},
   "outputs": [
    {
     "data": {
      "text/plain": [
       "'8:01:38'"
      ]
     },
     "execution_count": 138,
     "metadata": {},
     "output_type": "execute_result"
    }
   ],
   "source": [
    "a = 80138\n",
    "str(x)[:-4]+\":\"+str(x)[-4:-2]+\":\"+str(x)[-2:]"
   ]
  },
  {
   "cell_type": "code",
   "execution_count": 129,
   "metadata": {},
   "outputs": [
    {
     "ename": "NameError",
     "evalue": "name 'i' is not defined",
     "output_type": "error",
     "traceback": [
      "\u001b[1;31m---------------------------------------------------------------------------\u001b[0m",
      "\u001b[1;31mNameError\u001b[0m                                 Traceback (most recent call last)",
      "\u001b[1;32m<ipython-input-129-397d543883c5>\u001b[0m in \u001b[0;36m<module>\u001b[1;34m()\u001b[0m\n\u001b[1;32m----> 1\u001b[1;33m \u001b[0mi\u001b[0m\u001b[1;33m\u001b[0m\u001b[0m\n\u001b[0m",
      "\u001b[1;31mNameError\u001b[0m: name 'i' is not defined"
     ]
    }
   ],
   "source": []
  },
  {
   "cell_type": "code",
   "execution_count": null,
   "metadata": {},
   "outputs": [],
   "source": []
  }
 ],
 "metadata": {
  "kernelspec": {
   "display_name": "Python 3",
   "language": "python",
   "name": "python3"
  },
  "language_info": {
   "codemirror_mode": {
    "name": "ipython",
    "version": 3
   },
   "file_extension": ".py",
   "mimetype": "text/x-python",
   "name": "python",
   "nbconvert_exporter": "python",
   "pygments_lexer": "ipython3",
   "version": "3.6.5"
  }
 },
 "nbformat": 4,
 "nbformat_minor": 2
}
