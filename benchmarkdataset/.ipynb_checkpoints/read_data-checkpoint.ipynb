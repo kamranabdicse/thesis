{
 "cells": [
  {
   "cell_type": "code",
   "execution_count": 2,
   "metadata": {},
   "outputs": [],
   "source": [
    "import pandas as pd\n",
    "import requests as req\n",
    "import re\n",
    "import json\n",
    "import numpy as np\n",
    "import jalali\n",
    "from scipy import stats\n",
    "import os"
   ]
  },
  {
   "cell_type": "code",
   "execution_count": 3,
   "metadata": {},
   "outputs": [],
   "source": [
    "# directory = os.getcwd()\n",
    "# for filename in os.listdir(directory):\n",
    "#     if filename.endswith(\".csv\"):\n",
    "#         file = pd.read_csv(filename)"
   ]
  },
  {
   "cell_type": "code",
   "execution_count": 4,
   "metadata": {},
   "outputs": [
    {
     "data": {
      "text/html": [
       "<div>\n",
       "<style scoped>\n",
       "    .dataframe tbody tr th:only-of-type {\n",
       "        vertical-align: middle;\n",
       "    }\n",
       "\n",
       "    .dataframe tbody tr th {\n",
       "        vertical-align: top;\n",
       "    }\n",
       "\n",
       "    .dataframe thead th {\n",
       "        text-align: right;\n",
       "    }\n",
       "</style>\n",
       "<table border=\"1\" class=\"dataframe\">\n",
       "  <thead>\n",
       "    <tr style=\"text-align: right;\">\n",
       "      <th></th>\n",
       "      <th>Unnamed: 0</th>\n",
       "      <th>time1</th>\n",
       "      <th>Spread</th>\n",
       "      <th>Mid-price</th>\n",
       "      <th>volume_buy1</th>\n",
       "      <th>price_buy1</th>\n",
       "      <th>price_sell1</th>\n",
       "      <th>volume_sell1</th>\n",
       "      <th>time2</th>\n",
       "      <th>volume_buy2</th>\n",
       "      <th>...</th>\n",
       "      <th>time4</th>\n",
       "      <th>volume_buy4</th>\n",
       "      <th>price_buy4</th>\n",
       "      <th>price_sell4</th>\n",
       "      <th>volume_sell4</th>\n",
       "      <th>time5</th>\n",
       "      <th>volume_buy5</th>\n",
       "      <th>price_buy5</th>\n",
       "      <th>price_sell5</th>\n",
       "      <th>volume_sell5</th>\n",
       "    </tr>\n",
       "  </thead>\n",
       "  <tbody>\n",
       "    <tr>\n",
       "      <th>0</th>\n",
       "      <td>0</td>\n",
       "      <td>1397/7/16 6:01:23</td>\n",
       "      <td>4499</td>\n",
       "      <td>56250</td>\n",
       "      <td>100</td>\n",
       "      <td>54001</td>\n",
       "      <td>58500</td>\n",
       "      <td>120</td>\n",
       "      <td>6:01:23</td>\n",
       "      <td>0</td>\n",
       "      <td>...</td>\n",
       "      <td>6:01:23</td>\n",
       "      <td>0</td>\n",
       "      <td>0</td>\n",
       "      <td>59498</td>\n",
       "      <td>219</td>\n",
       "      <td>6:01:23</td>\n",
       "      <td>0</td>\n",
       "      <td>0</td>\n",
       "      <td>60000</td>\n",
       "      <td>6320</td>\n",
       "    </tr>\n",
       "    <tr>\n",
       "      <th>1</th>\n",
       "      <td>1</td>\n",
       "      <td>1397/7/16 8:30:03</td>\n",
       "      <td>846</td>\n",
       "      <td>54424</td>\n",
       "      <td>100</td>\n",
       "      <td>54001</td>\n",
       "      <td>54847</td>\n",
       "      <td>900</td>\n",
       "      <td>8:30:03</td>\n",
       "      <td>0</td>\n",
       "      <td>...</td>\n",
       "      <td>8:30:03</td>\n",
       "      <td>0</td>\n",
       "      <td>0</td>\n",
       "      <td>59200</td>\n",
       "      <td>100</td>\n",
       "      <td>8:30:03</td>\n",
       "      <td>0</td>\n",
       "      <td>0</td>\n",
       "      <td>59498</td>\n",
       "      <td>219</td>\n",
       "    </tr>\n",
       "    <tr>\n",
       "      <th>2</th>\n",
       "      <td>2</td>\n",
       "      <td>1397/7/16 8:30:07</td>\n",
       "      <td>846</td>\n",
       "      <td>54424</td>\n",
       "      <td>100</td>\n",
       "      <td>54001</td>\n",
       "      <td>54847</td>\n",
       "      <td>4513</td>\n",
       "      <td>8:30:03</td>\n",
       "      <td>0</td>\n",
       "      <td>...</td>\n",
       "      <td>8:30:03</td>\n",
       "      <td>0</td>\n",
       "      <td>0</td>\n",
       "      <td>59200</td>\n",
       "      <td>100</td>\n",
       "      <td>8:30:03</td>\n",
       "      <td>0</td>\n",
       "      <td>0</td>\n",
       "      <td>59498</td>\n",
       "      <td>219</td>\n",
       "    </tr>\n",
       "    <tr>\n",
       "      <th>3</th>\n",
       "      <td>3</td>\n",
       "      <td>1397/7/16 8:30:09</td>\n",
       "      <td>846</td>\n",
       "      <td>54424</td>\n",
       "      <td>100</td>\n",
       "      <td>54001</td>\n",
       "      <td>54847</td>\n",
       "      <td>5465</td>\n",
       "      <td>8:30:03</td>\n",
       "      <td>0</td>\n",
       "      <td>...</td>\n",
       "      <td>8:30:03</td>\n",
       "      <td>0</td>\n",
       "      <td>0</td>\n",
       "      <td>59200</td>\n",
       "      <td>100</td>\n",
       "      <td>8:30:03</td>\n",
       "      <td>0</td>\n",
       "      <td>0</td>\n",
       "      <td>59498</td>\n",
       "      <td>219</td>\n",
       "    </tr>\n",
       "    <tr>\n",
       "      <th>4</th>\n",
       "      <td>4</td>\n",
       "      <td>1397/7/16 8:30:10</td>\n",
       "      <td>846</td>\n",
       "      <td>54424</td>\n",
       "      <td>100</td>\n",
       "      <td>54001</td>\n",
       "      <td>54847</td>\n",
       "      <td>6185</td>\n",
       "      <td>8:30:03</td>\n",
       "      <td>0</td>\n",
       "      <td>...</td>\n",
       "      <td>8:30:03</td>\n",
       "      <td>0</td>\n",
       "      <td>0</td>\n",
       "      <td>59200</td>\n",
       "      <td>100</td>\n",
       "      <td>8:30:03</td>\n",
       "      <td>0</td>\n",
       "      <td>0</td>\n",
       "      <td>59498</td>\n",
       "      <td>219</td>\n",
       "    </tr>\n",
       "  </tbody>\n",
       "</table>\n",
       "<p>5 rows × 28 columns</p>\n",
       "</div>"
      ],
      "text/plain": [
       "   Unnamed: 0              time1  Spread  Mid-price  volume_buy1  price_buy1  \\\n",
       "0           0  1397/7/16 6:01:23    4499      56250          100       54001   \n",
       "1           1  1397/7/16 8:30:03     846      54424          100       54001   \n",
       "2           2  1397/7/16 8:30:07     846      54424          100       54001   \n",
       "3           3  1397/7/16 8:30:09     846      54424          100       54001   \n",
       "4           4  1397/7/16 8:30:10     846      54424          100       54001   \n",
       "\n",
       "   price_sell1  volume_sell1    time2  volume_buy2      ...         time4  \\\n",
       "0        58500           120  6:01:23            0      ...       6:01:23   \n",
       "1        54847           900  8:30:03            0      ...       8:30:03   \n",
       "2        54847          4513  8:30:03            0      ...       8:30:03   \n",
       "3        54847          5465  8:30:03            0      ...       8:30:03   \n",
       "4        54847          6185  8:30:03            0      ...       8:30:03   \n",
       "\n",
       "   volume_buy4  price_buy4 price_sell4  volume_sell4    time5  volume_buy5  \\\n",
       "0            0           0       59498           219  6:01:23            0   \n",
       "1            0           0       59200           100  8:30:03            0   \n",
       "2            0           0       59200           100  8:30:03            0   \n",
       "3            0           0       59200           100  8:30:03            0   \n",
       "4            0           0       59200           100  8:30:03            0   \n",
       "\n",
       "   price_buy5 price_sell5  volume_sell5  \n",
       "0           0       60000          6320  \n",
       "1           0       59498           219  \n",
       "2           0       59498           219  \n",
       "3           0       59498           219  \n",
       "4           0       59498           219  \n",
       "\n",
       "[5 rows x 28 columns]"
      ]
     },
     "execution_count": 4,
     "metadata": {},
     "output_type": "execute_result"
    }
   ],
   "source": [
    "zagros = pd.read_csv(\"zagros 1397-7-16.csv\")\n",
    "zagros.head()"
   ]
  },
  {
   "cell_type": "code",
   "execution_count": 5,
   "metadata": {},
   "outputs": [
    {
     "data": {
      "text/plain": [
       "Unnamed: 0      False\n",
       "time1           False\n",
       "Spread          False\n",
       "Mid-price       False\n",
       "volume_buy1     False\n",
       "price_buy1      False\n",
       "price_sell1     False\n",
       "volume_sell1    False\n",
       "time2           False\n",
       "volume_buy2     False\n",
       "price_buy2      False\n",
       "price_sell2     False\n",
       "volume_sell2    False\n",
       "time3           False\n",
       "volume_buy3     False\n",
       "price_buy3      False\n",
       "price_sell3     False\n",
       "volume_sell3    False\n",
       "time4           False\n",
       "volume_buy4     False\n",
       "price_buy4      False\n",
       "price_sell4     False\n",
       "volume_sell4    False\n",
       "time5           False\n",
       "volume_buy5     False\n",
       "price_buy5      False\n",
       "price_sell5     False\n",
       "volume_sell5    False\n",
       "dtype: bool"
      ]
     },
     "execution_count": 5,
     "metadata": {},
     "output_type": "execute_result"
    }
   ],
   "source": [
    "zagros.isna().any()"
   ]
  },
  {
   "cell_type": "code",
   "execution_count": 6,
   "metadata": {},
   "outputs": [
    {
     "name": "stdout",
     "output_type": "stream",
     "text": [
      "<class 'pandas.core.frame.DataFrame'>\n",
      "RangeIndex: 2148 entries, 0 to 2147\n",
      "Data columns (total 28 columns):\n",
      "Unnamed: 0      2148 non-null int64\n",
      "time1           2148 non-null object\n",
      "Spread          2148 non-null int64\n",
      "Mid-price       2148 non-null int64\n",
      "volume_buy1     2148 non-null int64\n",
      "price_buy1      2148 non-null int64\n",
      "price_sell1     2148 non-null int64\n",
      "volume_sell1    2148 non-null int64\n",
      "time2           2148 non-null object\n",
      "volume_buy2     2148 non-null int64\n",
      "price_buy2      2148 non-null int64\n",
      "price_sell2     2148 non-null int64\n",
      "volume_sell2    2148 non-null int64\n",
      "time3           2148 non-null object\n",
      "volume_buy3     2148 non-null int64\n",
      "price_buy3      2148 non-null int64\n",
      "price_sell3     2148 non-null int64\n",
      "volume_sell3    2148 non-null int64\n",
      "time4           2148 non-null object\n",
      "volume_buy4     2148 non-null int64\n",
      "price_buy4      2148 non-null int64\n",
      "price_sell4     2148 non-null int64\n",
      "volume_sell4    2148 non-null int64\n",
      "time5           2148 non-null object\n",
      "volume_buy5     2148 non-null int64\n",
      "price_buy5      2148 non-null int64\n",
      "price_sell5     2148 non-null int64\n",
      "volume_sell5    2148 non-null int64\n",
      "dtypes: int64(23), object(5)\n",
      "memory usage: 470.0+ KB\n"
     ]
    }
   ],
   "source": [
    "zagros.info()"
   ]
  },
  {
   "cell_type": "code",
   "execution_count": 7,
   "metadata": {},
   "outputs": [],
   "source": [
    "def set_label(k,nparray):\n",
    "    lst = []\n",
    "    for i in range(0,nparray.shape[0]-k):\n",
    "        eq = 0\n",
    "        for j in range(i+1,i+k+1):\n",
    "            eq = eq + nparray[j]-nparray[i]\n",
    "        numerator = eq/k\n",
    "        fraction = numerator / nparray[i]\n",
    "        lst.append(fraction)\n",
    "    lst = lst+[lst[-1]]*k\n",
    "    len(lst)\n",
    "    label = np.array([i for i in lst],dtype=np.float)\n",
    "    return label"
   ]
  },
  {
   "cell_type": "code",
   "execution_count": 8,
   "metadata": {},
   "outputs": [],
   "source": [
    "Spread = zagros[\"Spread\"].values\n",
    "Spread = stats.zscore(Spread)\n",
    "\n",
    "mid_price = zagros[\"Mid-price\"].values\n",
    "target = set_label(1,mid_price)\n",
    "target_zscore = stats.zscore(target)\n",
    "mid_price = stats.zscore(mid_price)\n",
    "\n",
    "volume_buy1 = zagros[\"volume_buy1\"].values\n",
    "volume_buy1 = stats.zscore(volume_buy1)\n",
    "\n",
    "price_buy1 = zagros[\"price_buy1\"].values\n",
    "price_buy1 = stats.zscore(price_buy1)\n",
    "\n",
    "price_sell1 = zagros[\"price_sell1\"].values\n",
    "price_sell1 = stats.zscore(price_sell1)\n",
    "\n",
    "volume_sell1 = zagros[\"volume_sell1\"].values\n",
    "volume_sell1 = stats.zscore(volume_sell1)\n",
    "###############\n",
    "volume_buy2 = zagros[\"volume_buy2\"].values\n",
    "volume_buy2 = stats.zscore(volume_buy2)\n",
    "\n",
    "price_buy2 = zagros[\"price_buy2\"].values\n",
    "price_buy2 = stats.zscore(price_buy2)\n",
    "\n",
    "price_sell2 = zagros[\"price_sell2\"].values\n",
    "price_sell2 = stats.zscore(price_sell2)\n",
    "\n",
    "volume_sell2 = zagros[\"volume_sell2\"].values\n",
    "volume_sell2 = stats.zscore(volume_sell2)\n",
    "###############\n",
    "volume_buy3 = zagros[\"volume_buy3\"].values\n",
    "volume_buy3 = stats.zscore(volume_buy3)\n",
    "\n",
    "price_buy3 = zagros[\"price_buy3\"].values\n",
    "price_buy3 = stats.zscore(price_buy3)\n",
    "\n",
    "price_sell3 = zagros[\"price_sell3\"].values\n",
    "price_sell3 = stats.zscore(price_sell3)\n",
    "\n",
    "volume_sell3 = zagros[\"volume_sell3\"].values\n",
    "volume_sell3 = stats.zscore(volume_sell3)\n",
    "##############\n",
    "volume_buy4 = zagros[\"volume_buy4\"].values\n",
    "volume_buy4 = stats.zscore(volume_buy4)\n",
    "\n",
    "price_buy4 = zagros[\"price_buy4\"].values\n",
    "price_buy4 = stats.zscore(price_buy4)\n",
    "\n",
    "price_sell4 = zagros[\"price_sell4\"].values\n",
    "price_sell4 = stats.zscore(price_sell4)\n",
    "\n",
    "volume_sell4 = zagros[\"volume_sell4\"].values\n",
    "volume_sell4 = stats.zscore(volume_sell4)\n",
    "###############\n",
    "volume_buy5 = zagros[\"volume_buy5\"].values\n",
    "volume_buy5 = stats.zscore(volume_buy5)\n",
    "\n",
    "price_buy5 = zagros[\"price_buy5\"].values\n",
    "price_buy5 = stats.zscore(price_buy5)\n",
    "\n",
    "price_sell5 = zagros[\"price_sell5\"].values\n",
    "price_sell5 = stats.zscore(price_sell5)\n",
    "\n",
    "volume_sell5 = zagros[\"volume_sell5\"].values\n",
    "volume_sell5 = stats.zscore(volume_sell5)\n"
   ]
  },
  {
   "cell_type": "code",
   "execution_count": 9,
   "metadata": {},
   "outputs": [],
   "source": [
    "upward = 0.002\n",
    "low_stationary = -0.00199\n",
    "high_stationary = 0.00199\n",
    "downward = -0.002\n",
    "\n",
    "# if target[0] >= upward:\n",
    "#     nplabel = np.array([[1,-1,-1]])\n",
    "# elif low_stationary < target[0] < high_stationary:\n",
    "#     nplabel = np.array([[-1,1,-1]])\n",
    "# elif target[0] <= downward:\n",
    "#     nplabel = np.array([[-1,-1,1]])\n",
    "    \n",
    "# nplabel = np.array([[0,0,0]])\n",
    "\n",
    "# for item in target:\n",
    "#     if item >= upward:\n",
    "#         nplabel = np.append(nplabel,[[1,-1,-1]],axis=0)\n",
    "#     elif low_stationary < item < high_stationary:\n",
    "#         nplabel = np.append(nplabel,[[-1,1,-1]],axis=0)\n",
    "#     elif item <= downward:\n",
    "#         nplabel = np.append(nplabel,[[-1,-1,1]],axis=0)\n",
    "lst=[]\n",
    "for item in target:\n",
    "    if item >= upward:\n",
    "        lst.append(1)\n",
    "    elif low_stationary < item < high_stationary:\n",
    "        lst.append(3)\n",
    "    elif item <= downward:\n",
    "        lst.append(5)\n"
   ]
  },
  {
   "cell_type": "code",
   "execution_count": 10,
   "metadata": {},
   "outputs": [
    {
     "data": {
      "text/plain": [
       "array([[5],\n",
       "       [3],\n",
       "       [3],\n",
       "       ...,\n",
       "       [3],\n",
       "       [3],\n",
       "       [3]])"
      ]
     },
     "execution_count": 10,
     "metadata": {},
     "output_type": "execute_result"
    }
   ],
   "source": [
    "X = np.array([Spread,mid_price,volume_buy1,price_buy1,price_sell1,volume_sell1,\n",
    "                               volume_buy2,price_buy2,price_sell2,volume_sell2,\n",
    "                               volume_buy3,price_buy3,price_sell3,volume_sell3,\n",
    "                               volume_buy4,price_buy4,price_sell4,volume_sell4,\n",
    "                               volume_buy5,price_buy5,price_sell5,volume_sell5,\n",
    "             ])\n",
    "nplabel = np.array([i for i in lst],dtype=int)\n",
    "T = np.expand_dims(nplabel,axis=1)\n",
    "Xt = np.transpose(X)\n",
    "T"
   ]
  },
  {
   "cell_type": "code",
   "execution_count": 58,
   "metadata": {},
   "outputs": [],
   "source": [
    "from sklearn.linear_model import Ridge\n",
    "from sklearn.model_selection import train_test_split\n",
    "\n",
    "X_train, X_test, Y_train, Y_test = train_test_split(Xt,T,test_size=0.2,random_state=10)\n",
    "ridge_train_pred = []\n",
    "ridge_test_pred = []\n",
    "\n",
    "#training\n",
    "ridge_reg = Ridge(alpha=10)\n",
    "ridge_reg.fit(X_train,Y_train)\n",
    "#prediction\n",
    "pred_train = ridge_reg.predict(X_train)\n",
    "pred_test = ridge_reg.predict(X_test)\n",
    "\n",
    "# pred_train = np.round(pred_train,decimals=0).astype(int)\n",
    "# pred_test = np.round(pred_test,decimals=0).astype(int)\n",
    "\n",
    "\n",
    "# for alpha in np.arange(0,200,1):\n",
    "#     #training\n",
    "#     ridge_reg = Ridge(alpha=alpha)\n",
    "#     ridge_reg.fit(X_train,y_train)\n",
    "#     #prediction\n",
    "#     ridge_train_pred.append(ridge_reg.predict(X_train))\n",
    "#     ridge_train_pred.append(ridge_reg.predict(X_test))\n",
    "\n",
    "#convert pred_train to 1,3,5\n",
    "pred_train = pred_train//2*2+1\n",
    "pred_test = pred_test//2*2+1"
   ]
  },
  {
   "cell_type": "code",
   "execution_count": 68,
   "metadata": {},
   "outputs": [
    {
     "name": "stdout",
     "output_type": "stream",
     "text": [
      "accuracy\n",
      "0.9569266589057043\n",
      "0.958139534883721\n",
      "precision\n",
      "0.9157086305244341\n",
      "0.9180313683071931\n",
      "recall\n",
      "0.9569266589057043\n",
      "0.958139534883721\n",
      "f1-score\n",
      "0.9358640257233658\n",
      "0.9376567419764681\n"
     ]
    },
    {
     "name": "stderr",
     "output_type": "stream",
     "text": [
      "C:\\Users\\kamran\\Anaconda3\\lib\\site-packages\\sklearn\\metrics\\classification.py:1143: UndefinedMetricWarning: Precision is ill-defined and being set to 0.0 in labels with no predicted samples.\n",
      "  'precision', 'predicted', average, warn_for)\n",
      "C:\\Users\\kamran\\Anaconda3\\lib\\site-packages\\sklearn\\metrics\\classification.py:1143: UndefinedMetricWarning: F-score is ill-defined and being set to 0.0 in labels with no predicted samples.\n",
      "  'precision', 'predicted', average, warn_for)\n"
     ]
    }
   ],
   "source": [
    "from sklearn.metrics import accuracy_score,precision_score,recall_score,f1_score\n",
    "\n",
    "Y_train.shape,pred_train.shape\n",
    "print(\"accuracy\")\n",
    "print(accuracy_score(Y_train,pred_train))\n",
    "print(accuracy_score(Y_test,pred_test))\n",
    "print(\"precision\")\n",
    "print(precision_score(Y_train,pred_train,average='weighted'))\n",
    "print(precision_score(Y_test,pred_test,average='weighted'))\n",
    "print(\"recall\")\n",
    "print(recall_score(Y_train,pred_train,average='weighted'))\n",
    "print(recall_score(Y_test,pred_test,average='weighted'))\n",
    "print(\"f1-score\")\n",
    "print(f1_score(Y_train,pred_train,average='weighted'))\n",
    "print(f1_score(Y_test,pred_test,average='weighted'))"
   ]
  },
  {
   "cell_type": "code",
   "execution_count": 81,
   "metadata": {},
   "outputs": [
    {
     "data": {
      "text/plain": [
       "(1718, 22)"
      ]
     },
     "execution_count": 81,
     "metadata": {},
     "output_type": "execute_result"
    }
   ],
   "source": [
    "X_train.shape"
   ]
  },
  {
   "cell_type": "code",
   "execution_count": 24,
   "metadata": {},
   "outputs": [
    {
     "ename": "ValueError",
     "evalue": "all the input arrays must have same number of dimensions",
     "output_type": "error",
     "traceback": [
      "\u001b[1;31m---------------------------------------------------------------------------\u001b[0m",
      "\u001b[1;31mValueError\u001b[0m                                Traceback (most recent call last)",
      "\u001b[1;32m<ipython-input-24-24e1a46474e5>\u001b[0m in \u001b[0;36m<module>\u001b[1;34m()\u001b[0m\n\u001b[1;32m----> 1\u001b[1;33m \u001b[0mnp\u001b[0m\u001b[1;33m.\u001b[0m\u001b[0mappend\u001b[0m\u001b[1;33m(\u001b[0m\u001b[0ma\u001b[0m\u001b[1;33m,\u001b[0m\u001b[1;33m[\u001b[0m\u001b[1;33m[\u001b[0m\u001b[1;36m1\u001b[0m\u001b[1;33m,\u001b[0m\u001b[1;36m1\u001b[0m\u001b[1;33m,\u001b[0m\u001b[1;36m1\u001b[0m\u001b[1;33m]\u001b[0m\u001b[1;33m]\u001b[0m\u001b[1;33m,\u001b[0m\u001b[0maxis\u001b[0m\u001b[1;33m=\u001b[0m\u001b[1;36m0\u001b[0m\u001b[1;33m)\u001b[0m\u001b[1;33m\u001b[0m\u001b[0m\n\u001b[0m",
      "\u001b[1;32m~\\Anaconda3\\lib\\site-packages\\numpy\\lib\\function_base.py\u001b[0m in \u001b[0;36mappend\u001b[1;34m(arr, values, axis)\u001b[0m\n\u001b[0;32m   4692\u001b[0m         \u001b[0mvalues\u001b[0m \u001b[1;33m=\u001b[0m \u001b[0mravel\u001b[0m\u001b[1;33m(\u001b[0m\u001b[0mvalues\u001b[0m\u001b[1;33m)\u001b[0m\u001b[1;33m\u001b[0m\u001b[0m\n\u001b[0;32m   4693\u001b[0m         \u001b[0maxis\u001b[0m \u001b[1;33m=\u001b[0m \u001b[0marr\u001b[0m\u001b[1;33m.\u001b[0m\u001b[0mndim\u001b[0m\u001b[1;33m-\u001b[0m\u001b[1;36m1\u001b[0m\u001b[1;33m\u001b[0m\u001b[0m\n\u001b[1;32m-> 4694\u001b[1;33m     \u001b[1;32mreturn\u001b[0m \u001b[0mconcatenate\u001b[0m\u001b[1;33m(\u001b[0m\u001b[1;33m(\u001b[0m\u001b[0marr\u001b[0m\u001b[1;33m,\u001b[0m \u001b[0mvalues\u001b[0m\u001b[1;33m)\u001b[0m\u001b[1;33m,\u001b[0m \u001b[0maxis\u001b[0m\u001b[1;33m=\u001b[0m\u001b[0maxis\u001b[0m\u001b[1;33m)\u001b[0m\u001b[1;33m\u001b[0m\u001b[0m\n\u001b[0m\u001b[0;32m   4695\u001b[0m \u001b[1;33m\u001b[0m\u001b[0m\n\u001b[0;32m   4696\u001b[0m \u001b[1;33m\u001b[0m\u001b[0m\n",
      "\u001b[1;31mValueError\u001b[0m: all the input arrays must have same number of dimensions"
     ]
    }
   ],
   "source": [
    "np.append(a,[[1,1,1]],axis=0)"
   ]
  },
  {
   "cell_type": "code",
   "execution_count": 154,
   "metadata": {},
   "outputs": [],
   "source": [
    "a = np.array([[1,1,1],[1.,1.,-1.]])\n",
    "b = np.round(a,decimals=0).astype(int)"
   ]
  },
  {
   "cell_type": "code",
   "execution_count": 159,
   "metadata": {},
   "outputs": [
    {
     "data": {
      "text/plain": [
       "0.3333333333333333"
      ]
     },
     "execution_count": 159,
     "metadata": {},
     "output_type": "execute_result"
    }
   ],
   "source": [
    "accuracy_score(Y_train[0],pred_train[0])"
   ]
  },
  {
   "cell_type": "code",
   "execution_count": 130,
   "metadata": {},
   "outputs": [
    {
     "data": {
      "text/plain": [
       "array([[1., 1., 1.],\n",
       "       [1., 1., 1.]])"
      ]
     },
     "execution_count": 130,
     "metadata": {},
     "output_type": "execute_result"
    }
   ],
   "source": [
    "np.ones((2,3))"
   ]
  },
  {
   "cell_type": "code",
   "execution_count": 157,
   "metadata": {},
   "outputs": [
    {
     "data": {
      "text/plain": [
       "array([ 1, -1, -1])"
      ]
     },
     "execution_count": 157,
     "metadata": {},
     "output_type": "execute_result"
    }
   ],
   "source": [
    "Y_train[]"
   ]
  },
  {
   "cell_type": "code",
   "execution_count": 158,
   "metadata": {},
   "outputs": [
    {
     "data": {
      "text/plain": [
       "array([-1,  1, -1])"
      ]
     },
     "execution_count": 158,
     "metadata": {},
     "output_type": "execute_result"
    }
   ],
   "source": [
    "pred_train[0]"
   ]
  },
  {
   "cell_type": "code",
   "execution_count": 160,
   "metadata": {},
   "outputs": [],
   "source": [
    "lst=[]\n",
    "lst.append(1)"
   ]
  },
  {
   "cell_type": "code",
   "execution_count": 161,
   "metadata": {},
   "outputs": [
    {
     "data": {
      "text/plain": [
       "[1]"
      ]
     },
     "execution_count": 161,
     "metadata": {},
     "output_type": "execute_result"
    }
   ],
   "source": [
    "lst"
   ]
  },
  {
   "cell_type": "code",
   "execution_count": 164,
   "metadata": {},
   "outputs": [
    {
     "data": {
      "text/plain": [
       "array([5, 3, 3, ..., 3, 3, 3])"
      ]
     },
     "execution_count": 164,
     "metadata": {},
     "output_type": "execute_result"
    }
   ],
   "source": [
    "T"
   ]
  },
  {
   "cell_type": "code",
   "execution_count": 55,
   "metadata": {},
   "outputs": [],
   "source": [
    "a = np.array([[0.3,1.7,2.9],[1.9,2.1,4.2]])\n",
    "b = np.round(a,decimals=1).astype(int)"
   ]
  },
  {
   "cell_type": "code",
   "execution_count": 56,
   "metadata": {},
   "outputs": [
    {
     "data": {
      "text/plain": [
       "array([[1., 1., 3.],\n",
       "       [1., 3., 5.]])"
      ]
     },
     "execution_count": 56,
     "metadata": {},
     "output_type": "execute_result"
    }
   ],
   "source": [
    "a//2*2+1"
   ]
  },
  {
   "cell_type": "code",
   "execution_count": null,
   "metadata": {},
   "outputs": [],
   "source": []
  }
 ],
 "metadata": {
  "kernelspec": {
   "display_name": "Python 3",
   "language": "python",
   "name": "python3"
  },
  "language_info": {
   "codemirror_mode": {
    "name": "ipython",
    "version": 3
   },
   "file_extension": ".py",
   "mimetype": "text/x-python",
   "name": "python",
   "nbconvert_exporter": "python",
   "pygments_lexer": "ipython3",
   "version": "3.6.5"
  }
 },
 "nbformat": 4,
 "nbformat_minor": 2
}
