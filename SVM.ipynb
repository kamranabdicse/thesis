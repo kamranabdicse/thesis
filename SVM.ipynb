{
 "cells": [
  {
   "cell_type": "code",
   "execution_count": 26,
   "metadata": {},
   "outputs": [],
   "source": [
    "import pandas as pd\n",
    "import numpy as np\n",
    "from sklearn.svm import SVC\n",
    "from sklearn.metrics import accuracy_score,precision_score,recall_score,f1_score"
   ]
  },
  {
   "cell_type": "code",
   "execution_count": 27,
   "metadata": {},
   "outputs": [],
   "source": [
    "data = pd.read_csv('GOOGL.csv',index_col=\"Date\",parse_dates=True)"
   ]
  },
  {
   "cell_type": "code",
   "execution_count": 28,
   "metadata": {},
   "outputs": [
    {
     "data": {
      "text/html": [
       "<div>\n",
       "<style scoped>\n",
       "    .dataframe tbody tr th:only-of-type {\n",
       "        vertical-align: middle;\n",
       "    }\n",
       "\n",
       "    .dataframe tbody tr th {\n",
       "        vertical-align: top;\n",
       "    }\n",
       "\n",
       "    .dataframe thead th {\n",
       "        text-align: right;\n",
       "    }\n",
       "</style>\n",
       "<table border=\"1\" class=\"dataframe\">\n",
       "  <thead>\n",
       "    <tr style=\"text-align: right;\">\n",
       "      <th></th>\n",
       "      <th>Open</th>\n",
       "      <th>High</th>\n",
       "      <th>Low</th>\n",
       "      <th>Close</th>\n",
       "      <th>Adj Close</th>\n",
       "      <th>Volume</th>\n",
       "    </tr>\n",
       "    <tr>\n",
       "      <th>Date</th>\n",
       "      <th></th>\n",
       "      <th></th>\n",
       "      <th></th>\n",
       "      <th></th>\n",
       "      <th></th>\n",
       "      <th></th>\n",
       "    </tr>\n",
       "  </thead>\n",
       "  <tbody>\n",
       "    <tr>\n",
       "      <th>2004-08-19</th>\n",
       "      <td>50.050049</td>\n",
       "      <td>52.082081</td>\n",
       "      <td>48.028027</td>\n",
       "      <td>50.220219</td>\n",
       "      <td>50.220219</td>\n",
       "      <td>44659000</td>\n",
       "    </tr>\n",
       "    <tr>\n",
       "      <th>2004-08-20</th>\n",
       "      <td>50.555557</td>\n",
       "      <td>54.594593</td>\n",
       "      <td>50.300301</td>\n",
       "      <td>54.209209</td>\n",
       "      <td>54.209209</td>\n",
       "      <td>22834300</td>\n",
       "    </tr>\n",
       "    <tr>\n",
       "      <th>2004-08-23</th>\n",
       "      <td>55.430431</td>\n",
       "      <td>56.796795</td>\n",
       "      <td>54.579578</td>\n",
       "      <td>54.754753</td>\n",
       "      <td>54.754753</td>\n",
       "      <td>18256100</td>\n",
       "    </tr>\n",
       "    <tr>\n",
       "      <th>2004-08-24</th>\n",
       "      <td>55.675674</td>\n",
       "      <td>55.855854</td>\n",
       "      <td>51.836838</td>\n",
       "      <td>52.487488</td>\n",
       "      <td>52.487488</td>\n",
       "      <td>15247300</td>\n",
       "    </tr>\n",
       "    <tr>\n",
       "      <th>2004-08-25</th>\n",
       "      <td>52.532532</td>\n",
       "      <td>54.054054</td>\n",
       "      <td>51.991993</td>\n",
       "      <td>53.053055</td>\n",
       "      <td>53.053055</td>\n",
       "      <td>9188600</td>\n",
       "    </tr>\n",
       "  </tbody>\n",
       "</table>\n",
       "</div>"
      ],
      "text/plain": [
       "                 Open       High        Low      Close  Adj Close    Volume\n",
       "Date                                                                       \n",
       "2004-08-19  50.050049  52.082081  48.028027  50.220219  50.220219  44659000\n",
       "2004-08-20  50.555557  54.594593  50.300301  54.209209  54.209209  22834300\n",
       "2004-08-23  55.430431  56.796795  54.579578  54.754753  54.754753  18256100\n",
       "2004-08-24  55.675674  55.855854  51.836838  52.487488  52.487488  15247300\n",
       "2004-08-25  52.532532  54.054054  51.991993  53.053055  53.053055   9188600"
      ]
     },
     "execution_count": 28,
     "metadata": {},
     "output_type": "execute_result"
    }
   ],
   "source": [
    "data.head()"
   ]
  },
  {
   "cell_type": "code",
   "execution_count": 29,
   "metadata": {},
   "outputs": [
    {
     "data": {
      "text/plain": [
       "Open         False\n",
       "High         False\n",
       "Low          False\n",
       "Close        False\n",
       "Adj Close    False\n",
       "Volume       False\n",
       "dtype: bool"
      ]
     },
     "execution_count": 29,
     "metadata": {},
     "output_type": "execute_result"
    }
   ],
   "source": [
    "data.isna().any()"
   ]
  },
  {
   "cell_type": "code",
   "execution_count": 30,
   "metadata": {},
   "outputs": [
    {
     "name": "stdout",
     "output_type": "stream",
     "text": [
      "<class 'pandas.core.frame.DataFrame'>\n",
      "DatetimeIndex: 3722 entries, 2004-08-19 to 2019-06-03\n",
      "Data columns (total 6 columns):\n",
      "Open         3722 non-null float64\n",
      "High         3722 non-null float64\n",
      "Low          3722 non-null float64\n",
      "Close        3722 non-null float64\n",
      "Adj Close    3722 non-null float64\n",
      "Volume       3722 non-null int64\n",
      "dtypes: float64(5), int64(1)\n",
      "memory usage: 203.5 KB\n"
     ]
    }
   ],
   "source": [
    "data.info()"
   ]
  },
  {
   "cell_type": "code",
   "execution_count": 6,
   "metadata": {},
   "outputs": [],
   "source": [
    "# data[\"Close\"] = data[\"Close\"].str.replace(',', '').astype(float)\n",
    "# data[\"Volume\"] = data[\"Volume\"].str.replace(',', '').astype(float)"
   ]
  },
  {
   "cell_type": "code",
   "execution_count": 7,
   "metadata": {},
   "outputs": [
    {
     "name": "stdout",
     "output_type": "stream",
     "text": [
      "<class 'pandas.core.frame.DataFrame'>\n",
      "DatetimeIndex: 1258 entries, 2012-01-03 to 2016-12-30\n",
      "Data columns (total 5 columns):\n",
      "Open      1258 non-null float64\n",
      "High      1258 non-null float64\n",
      "Low       1258 non-null float64\n",
      "Close     1258 non-null float64\n",
      "Volume    1258 non-null float64\n",
      "dtypes: float64(5)\n",
      "memory usage: 59.0 KB\n"
     ]
    }
   ],
   "source": [
    "data.info()"
   ]
  },
  {
   "cell_type": "code",
   "execution_count": 31,
   "metadata": {},
   "outputs": [
    {
     "name": "stderr",
     "output_type": "stream",
     "text": [
      "C:\\Users\\kamran\\Anaconda3\\lib\\site-packages\\sklearn\\preprocessing\\data.py:334: DataConversionWarning: Data with input dtype int64, float64 were all converted to float64 by MinMaxScaler.\n",
      "  return self.partial_fit(X, y)\n"
     ]
    }
   ],
   "source": [
    "# Feature Scaling\n",
    "from sklearn.preprocessing import MinMaxScaler\n",
    "sc = MinMaxScaler(feature_range = (0, 1))\n",
    "data = sc.fit_transform(data)"
   ]
  },
  {
   "cell_type": "code",
   "execution_count": 32,
   "metadata": {},
   "outputs": [
    {
     "data": {
      "text/plain": [
       "array([[3.27076291e-04, 9.31873428e-04, 0.00000000e+00, 1.32540767e-04,\n",
       "        1.32540767e-04, 5.40709661e-01],\n",
       "       [7.34916593e-04, 2.94825633e-03, 1.85691554e-03, 3.33360511e-03,\n",
       "        3.33360511e-03, 2.73350035e-01],\n",
       "       [4.66793067e-03, 4.71560409e-03, 5.35396562e-03, 3.77139048e-03,\n",
       "        3.77139048e-03, 2.17265605e-01],\n",
       "       ...,\n",
       "       [8.63676215e-01, 8.63432405e-01, 8.72671212e-01, 8.59735479e-01,\n",
       "        8.59735479e-01, 4.70167401e-03],\n",
       "       [8.51969642e-01, 8.52678394e-01, 8.62415240e-01, 8.47770551e-01,\n",
       "        8.47770551e-01, 1.29669670e-02],\n",
       "       [8.20738717e-01, 8.15440675e-01, 8.00046135e-01, 7.93394844e-01,\n",
       "        7.93394844e-01, 5.29618219e-02]])"
      ]
     },
     "execution_count": 32,
     "metadata": {},
     "output_type": "execute_result"
    }
   ],
   "source": [
    "data"
   ]
  },
  {
   "cell_type": "code",
   "execution_count": 33,
   "metadata": {},
   "outputs": [],
   "source": [
    "Close = []\n",
    "for i in range(0,data.shape[0]):\n",
    "    Close.append(data[i][3])\n",
    "X = []\n",
    "Y = []\n",
    "for n in range(0,len(Close)-10):\n",
    "    x = Close[n:9+n]\n",
    "    y = Close[n+9]\n",
    "    X.append(x)\n",
    "    if y>x[-1]:\n",
    "        Y.append(1)\n",
    "    else:\n",
    "        Y.append(-1)"
   ]
  },
  {
   "cell_type": "code",
   "execution_count": 104,
   "metadata": {},
   "outputs": [],
   "source": [
    "# without normalize data\n",
    "# datalist = data['Close'].values.tolist()\n",
    "# X = []\n",
    "# Y = []\n",
    "# for n in range(0,len(datalist)-11):\n",
    "#     x = datalist[n:10+n]\n",
    "#     y = datalist[n+10]\n",
    "#     X.append(x)\n",
    "#     if y>datalist[n+9]+0.01*datalist[n+9]:\n",
    "#         Y.append(1)\n",
    "#     else:\n",
    "#         Y.append(-1)"
   ]
  },
  {
   "cell_type": "code",
   "execution_count": 34,
   "metadata": {},
   "outputs": [],
   "source": [
    "X_train = X[:(4*len(X))//5]\n",
    "X_test = X[(4*len(X))//5:]\n",
    "Y_train = Y[:(4*len(Y))//5]\n",
    "Y_test = Y[(4*len(Y))//5:]"
   ]
  },
  {
   "cell_type": "code",
   "execution_count": 35,
   "metadata": {},
   "outputs": [],
   "source": [
    "regr = SVC(gamma='auto')"
   ]
  },
  {
   "cell_type": "code",
   "execution_count": 36,
   "metadata": {},
   "outputs": [
    {
     "name": "stdout",
     "output_type": "stream",
     "text": [
      "accuracy\n",
      "0.517009093971034\n",
      "0.5302826379542396\n",
      "precision\n",
      "0.517009093971034\n",
      "0.5302826379542396\n",
      "recall\n",
      "1.0\n",
      "1.0\n",
      "f1-score\n",
      "0.6816163410301954\n",
      "0.693051890941073\n"
     ]
    }
   ],
   "source": [
    "regr.fit(X_train,Y_train)\n",
    "pred_train = regr.predict(X_train)\n",
    "pred_test = regr.predict(X_test)\n",
    "\n",
    "print(\"accuracy\")\n",
    "print(accuracy_score(Y_train,pred_train))\n",
    "print(accuracy_score(Y_test,pred_test))\n",
    "print(\"precision\")\n",
    "print(precision_score(Y_train,pred_train))\n",
    "print(precision_score(Y_test,pred_test))\n",
    "print(\"recall\")\n",
    "print(recall_score(Y_train,pred_train))\n",
    "print(recall_score(Y_test,pred_test))\n",
    "print(\"f1-score\")\n",
    "print(f1_score(Y_train,pred_train))\n",
    "print(f1_score(Y_test,pred_test))"
   ]
  },
  {
   "cell_type": "code",
   "execution_count": 37,
   "metadata": {},
   "outputs": [],
   "source": [
    "from sklearn.neural_network import MLPClassifier"
   ]
  },
  {
   "cell_type": "code",
   "execution_count": 38,
   "metadata": {},
   "outputs": [],
   "source": [
    "regr = MLPClassifier(max_iter =20000)"
   ]
  },
  {
   "cell_type": "code",
   "execution_count": 39,
   "metadata": {},
   "outputs": [
    {
     "name": "stdout",
     "output_type": "stream",
     "text": [
      "accuracy\n",
      "0.517009093971034\n",
      "0.5329744279946165\n",
      "precision\n",
      "0.517009093971034\n",
      "0.5428051001821493\n",
      "recall\n",
      "1.0\n",
      "0.7563451776649747\n",
      "f1-score\n",
      "0.6816163410301954\n",
      "0.6320254506892895\n"
     ]
    }
   ],
   "source": [
    "regr.fit(X_train,Y_train)\n",
    "pred_train = regr.predict(X_train)\n",
    "pred_test = regr.predict(X_test)\n",
    "\n",
    "print(\"accuracy\")\n",
    "print(accuracy_score(Y_train,pred_train))\n",
    "print(accuracy_score(Y_test,pred_test))\n",
    "print(\"precision\")\n",
    "print(precision_score(Y_train,pred_train))\n",
    "print(precision_score(Y_test,pred_test))\n",
    "print(\"recall\")\n",
    "print(recall_score(Y_train,pred_train))\n",
    "print(recall_score(Y_test,pred_test))\n",
    "print(\"f1-score\")\n",
    "print(f1_score(Y_train,pred_train))\n",
    "print(f1_score(Y_test,pred_test))"
   ]
  },
  {
   "cell_type": "code",
   "execution_count": 22,
   "metadata": {},
   "outputs": [
    {
     "data": {
      "text/plain": [
       "numpy.ndarray"
      ]
     },
     "execution_count": 22,
     "metadata": {},
     "output_type": "execute_result"
    }
   ],
   "source": [
    "type(data['<CLOSE>'].values)"
   ]
  },
  {
   "cell_type": "code",
   "execution_count": 25,
   "metadata": {},
   "outputs": [],
   "source": [
    "additional_data = data.iloc[:,4:]"
   ]
  },
  {
   "cell_type": "code",
   "execution_count": 27,
   "metadata": {},
   "outputs": [
    {
     "data": {
      "text/plain": [
       "1838"
      ]
     },
     "execution_count": 27,
     "metadata": {},
     "output_type": "execute_result"
    }
   ],
   "source": [
    "additional_data.shape[0]"
   ]
  },
  {
   "cell_type": "code",
   "execution_count": 58,
   "metadata": {},
   "outputs": [],
   "source": [
    "X = []\n",
    "Y = []\n",
    "for n in range(0,additional_data.shape[0]-11):  \n",
    "    x = additional_data.iloc[n:n+10,:].values\n",
    "    y = additional_data.iloc[n+11,3]\n",
    "    X.append(x)\n",
    "    Xn = np.array(X)\n",
    "    if y > additional_data.iloc[n+10,3]:\n",
    "        Y.append(1)\n",
    "    else:\n",
    "        Y.append(-1)"
   ]
  },
  {
   "cell_type": "code",
   "execution_count": 60,
   "metadata": {},
   "outputs": [
    {
     "data": {
      "text/plain": [
       "(1827, 10, 5)"
      ]
     },
     "execution_count": 60,
     "metadata": {},
     "output_type": "execute_result"
    }
   ],
   "source": [
    "Xn.shape"
   ]
  },
  {
   "cell_type": "code",
   "execution_count": 51,
   "metadata": {},
   "outputs": [
    {
     "data": {
      "text/plain": [
       "10130"
      ]
     },
     "execution_count": 51,
     "metadata": {},
     "output_type": "execute_result"
    }
   ],
   "source": [
    "additional_data.iloc[n+11,3]"
   ]
  },
  {
   "cell_type": "code",
   "execution_count": null,
   "metadata": {},
   "outputs": [],
   "source": []
  }
 ],
 "metadata": {
  "kernelspec": {
   "display_name": "Python 3",
   "language": "python",
   "name": "python3"
  },
  "language_info": {
   "codemirror_mode": {
    "name": "ipython",
    "version": 3
   },
   "file_extension": ".py",
   "mimetype": "text/x-python",
   "name": "python",
   "nbconvert_exporter": "python",
   "pygments_lexer": "ipython3",
   "version": "3.6.5"
  }
 },
 "nbformat": 4,
 "nbformat_minor": 2
}
