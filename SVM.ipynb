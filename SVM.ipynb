{
 "cells": [
  {
   "cell_type": "code",
   "execution_count": 7,
   "metadata": {},
   "outputs": [],
   "source": [
    "import pandas as pd\n",
    "import numpy as np\n",
    "from sklearn.svm import SVC\n",
    "from sklearn.metrics import accuracy_score,precision_score,recall_score,f1_score"
   ]
  },
  {
   "cell_type": "code",
   "execution_count": 40,
   "metadata": {},
   "outputs": [],
   "source": [
    "data = pd.read_csv('Google_Stock_Price_Train.csv',index_col=\"Date\",parse_dates=True)"
   ]
  },
  {
   "cell_type": "code",
   "execution_count": 41,
   "metadata": {},
   "outputs": [
    {
     "data": {
      "text/html": [
       "<div>\n",
       "<style scoped>\n",
       "    .dataframe tbody tr th:only-of-type {\n",
       "        vertical-align: middle;\n",
       "    }\n",
       "\n",
       "    .dataframe tbody tr th {\n",
       "        vertical-align: top;\n",
       "    }\n",
       "\n",
       "    .dataframe thead th {\n",
       "        text-align: right;\n",
       "    }\n",
       "</style>\n",
       "<table border=\"1\" class=\"dataframe\">\n",
       "  <thead>\n",
       "    <tr style=\"text-align: right;\">\n",
       "      <th></th>\n",
       "      <th>Open</th>\n",
       "      <th>High</th>\n",
       "      <th>Low</th>\n",
       "      <th>Close</th>\n",
       "      <th>Volume</th>\n",
       "    </tr>\n",
       "    <tr>\n",
       "      <th>Date</th>\n",
       "      <th></th>\n",
       "      <th></th>\n",
       "      <th></th>\n",
       "      <th></th>\n",
       "      <th></th>\n",
       "    </tr>\n",
       "  </thead>\n",
       "  <tbody>\n",
       "    <tr>\n",
       "      <th>2012-01-03</th>\n",
       "      <td>325.25</td>\n",
       "      <td>332.83</td>\n",
       "      <td>324.97</td>\n",
       "      <td>663.59</td>\n",
       "      <td>7,380,500</td>\n",
       "    </tr>\n",
       "    <tr>\n",
       "      <th>2012-01-04</th>\n",
       "      <td>331.27</td>\n",
       "      <td>333.87</td>\n",
       "      <td>329.08</td>\n",
       "      <td>666.45</td>\n",
       "      <td>5,749,400</td>\n",
       "    </tr>\n",
       "    <tr>\n",
       "      <th>2012-01-05</th>\n",
       "      <td>329.83</td>\n",
       "      <td>330.75</td>\n",
       "      <td>326.89</td>\n",
       "      <td>657.21</td>\n",
       "      <td>6,590,300</td>\n",
       "    </tr>\n",
       "    <tr>\n",
       "      <th>2012-01-06</th>\n",
       "      <td>328.34</td>\n",
       "      <td>328.77</td>\n",
       "      <td>323.68</td>\n",
       "      <td>648.24</td>\n",
       "      <td>5,405,900</td>\n",
       "    </tr>\n",
       "    <tr>\n",
       "      <th>2012-01-09</th>\n",
       "      <td>322.04</td>\n",
       "      <td>322.29</td>\n",
       "      <td>309.46</td>\n",
       "      <td>620.76</td>\n",
       "      <td>11,688,800</td>\n",
       "    </tr>\n",
       "  </tbody>\n",
       "</table>\n",
       "</div>"
      ],
      "text/plain": [
       "              Open    High     Low   Close      Volume\n",
       "Date                                                  \n",
       "2012-01-03  325.25  332.83  324.97  663.59   7,380,500\n",
       "2012-01-04  331.27  333.87  329.08  666.45   5,749,400\n",
       "2012-01-05  329.83  330.75  326.89  657.21   6,590,300\n",
       "2012-01-06  328.34  328.77  323.68  648.24   5,405,900\n",
       "2012-01-09  322.04  322.29  309.46  620.76  11,688,800"
      ]
     },
     "execution_count": 41,
     "metadata": {},
     "output_type": "execute_result"
    }
   ],
   "source": [
    "data.head()"
   ]
  },
  {
   "cell_type": "code",
   "execution_count": 42,
   "metadata": {},
   "outputs": [
    {
     "data": {
      "text/plain": [
       "Open      False\n",
       "High      False\n",
       "Low       False\n",
       "Close     False\n",
       "Volume    False\n",
       "dtype: bool"
      ]
     },
     "execution_count": 42,
     "metadata": {},
     "output_type": "execute_result"
    }
   ],
   "source": [
    "data.isna().any()"
   ]
  },
  {
   "cell_type": "code",
   "execution_count": 45,
   "metadata": {},
   "outputs": [
    {
     "name": "stdout",
     "output_type": "stream",
     "text": [
      "<class 'pandas.core.frame.DataFrame'>\n",
      "DatetimeIndex: 1258 entries, 2012-01-03 to 2016-12-30\n",
      "Data columns (total 5 columns):\n",
      "Open      1258 non-null float64\n",
      "High      1258 non-null float64\n",
      "Low       1258 non-null float64\n",
      "Close     1258 non-null object\n",
      "Volume    1258 non-null object\n",
      "dtypes: float64(3), object(2)\n",
      "memory usage: 59.0+ KB\n"
     ]
    }
   ],
   "source": [
    "data.info()"
   ]
  },
  {
   "cell_type": "code",
   "execution_count": 47,
   "metadata": {},
   "outputs": [],
   "source": [
    "data[\"Close\"] = data[\"Close\"].str.replace(',', '').astype(float)\n",
    "data[\"Volume\"] = data[\"Volume\"].str.replace(',', '').astype(float)"
   ]
  },
  {
   "cell_type": "code",
   "execution_count": 48,
   "metadata": {},
   "outputs": [],
   "source": [
    "# Feature Scaling\n",
    "from sklearn.preprocessing import MinMaxScaler\n",
    "sc = MinMaxScaler(feature_range = (0, 1))\n",
    "data = sc.fit_transform(data)"
   ]
  },
  {
   "cell_type": "code",
   "execution_count": 59,
   "metadata": {},
   "outputs": [
    {
     "data": {
      "text/plain": [
       "array([[0.08581368, 0.09640129, 0.09044931, 0.23757287, 0.29525831],\n",
       "       [0.09701243, 0.09834351, 0.09823458, 0.24151427, 0.22993592],\n",
       "       [0.09433366, 0.09251685, 0.09408623, 0.22878051, 0.26361233],\n",
       "       ...,\n",
       "       [0.95725128, 0.95807422, 0.95844067, 0.40495845, 0.04589107],\n",
       "       [0.93796041, 0.94257381, 0.95033338, 0.40184391, 0.02949139],\n",
       "       [0.93688146, 0.93669113, 0.93421352, 0.38672602, 0.07056868]])"
      ]
     },
     "execution_count": 59,
     "metadata": {},
     "output_type": "execute_result"
    }
   ],
   "source": [
    "data"
   ]
  },
  {
   "cell_type": "code",
   "execution_count": 68,
   "metadata": {},
   "outputs": [],
   "source": [
    "Close = []\n",
    "for i in range(0,data.shape[0]):\n",
    "    Close.append(data[i][3])\n",
    "X = []\n",
    "Y = []\n",
    "for n in range(0,len(Close)-11):\n",
    "    x = Close[n:10+n]\n",
    "    y = Close[n+10]\n",
    "    X.append(x)\n",
    "    if y>Close[n+9]:\n",
    "        Y.append(1)\n",
    "    else:\n",
    "        Y.append(-1)"
   ]
  },
  {
   "cell_type": "code",
   "execution_count": 61,
   "metadata": {},
   "outputs": [],
   "source": [
    "# without normalize data\n",
    "# datalist = data['Close'].values.tolist()\n",
    "# X = []\n",
    "# Y = []\n",
    "# for n in range(0,len(datalist)-11):\n",
    "#     x = datalist[n:10+n]\n",
    "#     y = datalist[n+10]\n",
    "#     X.append(x)\n",
    "#     if y>datalist[n+9]+0.01*datalist[n+9]:\n",
    "#         Y.append(1)\n",
    "#     else:\n",
    "#         Y.append(-1)"
   ]
  },
  {
   "cell_type": "code",
   "execution_count": 69,
   "metadata": {},
   "outputs": [],
   "source": [
    "X_train = X[:(4*len(X))//5]\n",
    "X_test = X[(4*len(X))//5:]\n",
    "Y_train = Y[:(4*len(Y))//5]\n",
    "Y_test = Y[(4*len(Y))//5:]"
   ]
  },
  {
   "cell_type": "code",
   "execution_count": 70,
   "metadata": {},
   "outputs": [],
   "source": [
    "regr = SVC(gamma='auto')"
   ]
  },
  {
   "cell_type": "code",
   "execution_count": 75,
   "metadata": {},
   "outputs": [
    {
     "name": "stdout",
     "output_type": "stream",
     "text": [
      "accuracy\n",
      "0.5245737211634904\n",
      "0.524\n",
      "percision\n",
      "0.5190039318479686\n",
      "0.524\n",
      "recall\n",
      "0.7872763419483101\n",
      "1.0\n",
      "f1-score\n",
      "0.6255924170616114\n",
      "0.6876640419947507\n"
     ]
    }
   ],
   "source": [
    "regr.fit(X_train,Y_train)\n",
    "pred_train = regr.predict(X_train)\n",
    "pred_test = regr.predict(X_test)\n",
    "\n",
    "print(\"accuracy\")\n",
    "print(accuracy_score(Y_train,pred_train))\n",
    "print(accuracy_score(Y_test,pred_test))\n",
    "print(\"percision\")\n",
    "print(precision_score(Y_train,pred_train))\n",
    "print(precision_score(Y_test,pred_test))\n",
    "print(\"recall\")\n",
    "print(recall_score(Y_train,pred_train))\n",
    "print(recall_score(Y_test,pred_test))\n",
    "print(\"f1-score\")\n",
    "print(f1_score(Y_train,pred_train))\n",
    "print(f1_score(Y_test,pred_test))"
   ]
  },
  {
   "cell_type": "code",
   "execution_count": 72,
   "metadata": {},
   "outputs": [],
   "source": [
    "from sklearn.neural_network import MLPClassifier"
   ]
  },
  {
   "cell_type": "code",
   "execution_count": 73,
   "metadata": {},
   "outputs": [],
   "source": [
    "regr = MLPClassifier(max_iter =20000000)"
   ]
  },
  {
   "cell_type": "code",
   "execution_count": 76,
   "metadata": {},
   "outputs": [
    {
     "name": "stdout",
     "output_type": "stream",
     "text": [
      "accuracy\n",
      "0.5195586760280843\n",
      "0.524\n",
      "percision\n",
      "0.5142857142857142\n",
      "0.524\n",
      "recall\n",
      "0.8588469184890656\n",
      "1.0\n",
      "f1-score\n",
      "0.6433358153387937\n",
      "0.6876640419947507\n"
     ]
    }
   ],
   "source": [
    "regr.fit(X_train,Y_train)\n",
    "pred_train = regr.predict(X_train)\n",
    "pred_test = regr.predict(X_test)\n",
    "\n",
    "print(\"accuracy\")\n",
    "print(accuracy_score(Y_train,pred_train))\n",
    "print(accuracy_score(Y_test,pred_test))\n",
    "print(\"percision\")\n",
    "print(precision_score(Y_train,pred_train))\n",
    "print(precision_score(Y_test,pred_test))\n",
    "print(\"recall\")\n",
    "print(recall_score(Y_train,pred_train))\n",
    "print(recall_score(Y_test,pred_test))\n",
    "print(\"f1-score\")\n",
    "print(f1_score(Y_train,pred_train))\n",
    "print(f1_score(Y_test,pred_test))"
   ]
  },
  {
   "cell_type": "code",
   "execution_count": 22,
   "metadata": {},
   "outputs": [
    {
     "data": {
      "text/plain": [
       "numpy.ndarray"
      ]
     },
     "execution_count": 22,
     "metadata": {},
     "output_type": "execute_result"
    }
   ],
   "source": [
    "type(data['<CLOSE>'].values)"
   ]
  },
  {
   "cell_type": "code",
   "execution_count": 25,
   "metadata": {},
   "outputs": [],
   "source": [
    "additional_data = data.iloc[:,4:]"
   ]
  },
  {
   "cell_type": "code",
   "execution_count": 27,
   "metadata": {},
   "outputs": [
    {
     "data": {
      "text/plain": [
       "1838"
      ]
     },
     "execution_count": 27,
     "metadata": {},
     "output_type": "execute_result"
    }
   ],
   "source": [
    "additional_data.shape[0]"
   ]
  },
  {
   "cell_type": "code",
   "execution_count": 58,
   "metadata": {},
   "outputs": [],
   "source": [
    "X = []\n",
    "Y = []\n",
    "for n in range(0,additional_data.shape[0]-11):  \n",
    "    x = additional_data.iloc[n:n+10,:].values\n",
    "    y = additional_data.iloc[n+11,3]\n",
    "    X.append(x)\n",
    "    Xn = np.array(X)\n",
    "    if y > additional_data.iloc[n+10,3]:\n",
    "        Y.append(1)\n",
    "    else:\n",
    "        Y.append(-1)"
   ]
  },
  {
   "cell_type": "code",
   "execution_count": 60,
   "metadata": {},
   "outputs": [
    {
     "data": {
      "text/plain": [
       "(1827, 10, 5)"
      ]
     },
     "execution_count": 60,
     "metadata": {},
     "output_type": "execute_result"
    }
   ],
   "source": [
    "Xn.shape"
   ]
  },
  {
   "cell_type": "code",
   "execution_count": 51,
   "metadata": {},
   "outputs": [
    {
     "data": {
      "text/plain": [
       "10130"
      ]
     },
     "execution_count": 51,
     "metadata": {},
     "output_type": "execute_result"
    }
   ],
   "source": [
    "additional_data.iloc[n+11,3]"
   ]
  },
  {
   "cell_type": "code",
   "execution_count": null,
   "metadata": {},
   "outputs": [],
   "source": []
  }
 ],
 "metadata": {
  "kernelspec": {
   "display_name": "Python 3",
   "language": "python",
   "name": "python3"
  },
  "language_info": {
   "codemirror_mode": {
    "name": "ipython",
    "version": 3
   },
   "file_extension": ".py",
   "mimetype": "text/x-python",
   "name": "python",
   "nbconvert_exporter": "python",
   "pygments_lexer": "ipython3",
   "version": "3.6.5"
  }
 },
 "nbformat": 4,
 "nbformat_minor": 2
}
