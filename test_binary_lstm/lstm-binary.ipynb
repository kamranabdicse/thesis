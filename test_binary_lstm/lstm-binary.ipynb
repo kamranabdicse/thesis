{
 "cells": [
  {
   "cell_type": "code",
   "execution_count": 4,
   "metadata": {},
   "outputs": [
    {
     "name": "stdout",
     "output_type": "stream",
     "text": [
      "Loading data...\n",
      "    sequence  target\n",
      "8  [2, 1, 3]       0\n",
      "1  [2, 3, 1]       0\n",
      "2  [2, 3, 4]       1\n",
      "5  [3, 2, 1]       0\n",
      "7  [2, 2, 3]       1\n",
      "6  [1, 2, 4]       1\n",
      "0  [1, 2, 3]       1\n",
      "3  [4, 2, 1]       0\n",
      "4  [4, 3, 1]       0\n",
      "[list([2, 1, 3]) list([2, 3, 1]) list([2, 3, 4]) list([3, 2, 1])\n",
      " list([2, 2, 3]) list([1, 2, 4]) list([1, 2, 3])]\n",
      "[[2 1 3]\n",
      " [2 3 1]\n",
      " [2 3 4]\n",
      " [3 2 1]\n",
      " [2 2 3]\n",
      " [1 2 4]\n",
      " [1 2 3]]\n",
      "Creating model...\n"
     ]
    },
    {
     "name": "stderr",
     "output_type": "stream",
     "text": [
      "C:\\Users\\kamran\\Anaconda3\\lib\\site-packages\\ipykernel_launcher.py:30: UserWarning: Update your `LSTM` call to the Keras 2 API: `LSTM(activation=\"sigmoid\", return_sequences=True, units=256, recurrent_activation=\"hard_sigmoid\")`\n",
      "C:\\Users\\kamran\\Anaconda3\\lib\\site-packages\\ipykernel_launcher.py:32: UserWarning: Update your `LSTM` call to the Keras 2 API: `LSTM(activation=\"sigmoid\", units=256, recurrent_activation=\"hard_sigmoid\")`\n"
     ]
    },
    {
     "name": "stdout",
     "output_type": "stream",
     "text": [
      "Compiling...\n",
      "Fitting model...\n"
     ]
    },
    {
     "name": "stderr",
     "output_type": "stream",
     "text": [
      "C:\\Users\\kamran\\Anaconda3\\lib\\site-packages\\ipykernel_launcher.py:48: UserWarning: The `nb_epoch` argument in `fit` has been renamed `epochs`.\n"
     ]
    },
    {
     "name": "stdout",
     "output_type": "stream",
     "text": [
      "Train on 6 samples, validate on 1 samples\n",
      "Epoch 1/10\n",
      "6/6 [==============================] - 3s 552ms/step - loss: 0.5831 - acc: 1.0000 - val_loss: 0.8387 - val_acc: 0.0000e+00\n",
      "Epoch 2/10\n",
      "6/6 [==============================] - 0s 8ms/step - loss: 0.7909 - acc: 0.5000 - val_loss: 0.8219 - val_acc: 0.0000e+00\n",
      "Epoch 3/10\n",
      "6/6 [==============================] - 0s 9ms/step - loss: 0.7714 - acc: 0.1667 - val_loss: 0.6204 - val_acc: 1.0000\n",
      "Epoch 4/10\n",
      "6/6 [==============================] - 0s 8ms/step - loss: 0.7203 - acc: 0.5000 - val_loss: 0.8963 - val_acc: 0.0000e+00\n",
      "Epoch 5/10\n",
      "6/6 [==============================] - 0s 8ms/step - loss: 0.6800 - acc: 0.6667 - val_loss: 0.6201 - val_acc: 1.0000\n",
      "Epoch 6/10\n",
      "6/6 [==============================] - 0s 8ms/step - loss: 0.6271 - acc: 0.8333 - val_loss: 0.7312 - val_acc: 0.0000e+00\n",
      "Epoch 7/10\n",
      "6/6 [==============================] - 0s 9ms/step - loss: 0.5875 - acc: 0.8333 - val_loss: 0.5871 - val_acc: 1.0000\n",
      "Epoch 8/10\n",
      "6/6 [==============================] - 0s 9ms/step - loss: 0.7082 - acc: 0.5000 - val_loss: 0.7098 - val_acc: 0.0000e+00\n",
      "Epoch 9/10\n",
      "6/6 [==============================] - 0s 8ms/step - loss: 0.6496 - acc: 0.6667 - val_loss: 0.8358 - val_acc: 0.0000e+00\n",
      "Epoch 10/10\n",
      "6/6 [==============================] - 0s 8ms/step - loss: 0.8344 - acc: 0.1667 - val_loss: 0.6271 - val_acc: 1.0000\n",
      "2/2 [==============================] - 0s 6ms/step\n",
      "Test score: 0.7613491714000702\n",
      "Test accuracy: 0.0\n"
     ]
    }
   ],
   "source": [
    "from keras.layers import Dense, Dropout, LSTM, Embedding\n",
    "from keras.preprocessing.sequence import pad_sequences\n",
    "from keras.models import Sequential\n",
    "import pandas as pd\n",
    "import numpy as np\n",
    "\n",
    "input_file = 'input.csv'\n",
    "\n",
    "def load_data(test_split = 0.2):\n",
    "    print ('Loading data...')\n",
    "    df = pd.read_csv(input_file)\n",
    "    df['sequence'] = df['sequence'].apply(lambda x: [int(e) for e in x.split()])\n",
    "    df = df.reindex(np.random.permutation(df.index))\n",
    "    print(df)\n",
    "    train_size = int(len(df) * (1 - test_split))\n",
    "\n",
    "    X_train = df['sequence'].values[:train_size]\n",
    "    y_train = np.array(df['target'].values[:train_size])\n",
    "    X_test = np.array(df['sequence'].values[train_size:])\n",
    "    y_test = np.array(df['target'].values[train_size:])\n",
    "    \n",
    "    return pad_sequences(X_train), y_train, pad_sequences(X_test), y_test\n",
    "\n",
    "\n",
    "def create_model(input_length):\n",
    "    print ('Creating model...')\n",
    "    model = Sequential()\n",
    "    model.add(Embedding(input_dim = 188, output_dim = 50, input_length = input_length))\n",
    "    model.add(LSTM(output_dim=256, activation='sigmoid', inner_activation='hard_sigmoid', return_sequences=True))\n",
    "    model.add(Dropout(0.5))\n",
    "    model.add(LSTM(output_dim=256, activation='sigmoid', inner_activation='hard_sigmoid'))\n",
    "    model.add(Dropout(0.5))\n",
    "    model.add(Dense(1, activation='sigmoid'))\n",
    "\n",
    "    print ('Compiling...')\n",
    "    model.compile(loss='binary_crossentropy',\n",
    "                  optimizer='rmsprop',\n",
    "                  metrics=['accuracy'])\n",
    "    return model\n",
    "\n",
    "\n",
    "X_train, y_train, X_test, y_test = load_data()\n",
    "\n",
    "model = create_model(len(X_train[0]))\n",
    "\n",
    "print ('Fitting model...')\n",
    "hist = model.fit(X_train, y_train, batch_size=64, nb_epoch=10, validation_split = 0.1, verbose = 1)\n",
    "\n",
    "score, acc = model.evaluate(X_test, y_test, batch_size=1)\n",
    "print('Test score:', score)\n",
    "print('Test accuracy:', acc)"
   ]
  },
  {
   "cell_type": "code",
   "execution_count": null,
   "metadata": {},
   "outputs": [],
   "source": []
  }
 ],
 "metadata": {
  "kernelspec": {
   "display_name": "Python 3",
   "language": "python",
   "name": "python3"
  },
  "language_info": {
   "codemirror_mode": {
    "name": "ipython",
    "version": 3
   },
   "file_extension": ".py",
   "mimetype": "text/x-python",
   "name": "python",
   "nbconvert_exporter": "python",
   "pygments_lexer": "ipython3",
   "version": "3.6.5"
  }
 },
 "nbformat": 4,
 "nbformat_minor": 2
}
